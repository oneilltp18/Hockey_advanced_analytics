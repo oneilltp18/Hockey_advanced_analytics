{
 "cells": [
  {
   "cell_type": "markdown",
   "metadata": {},
   "source": [
    "# NHL Defense Statistics"
   ]
  },
  {
   "cell_type": "code",
   "execution_count": 20,
   "metadata": {
    "collapsed": true
   },
   "outputs": [],
   "source": [
    "from bs4 import BeautifulSoup\n",
    "import pandas as pd\n",
    "import requests\n",
    "import numpy as np\n",
    "import urllib\n",
    "from time import sleep"
   ]
  },
  {
   "cell_type": "code",
   "execution_count": 2,
   "metadata": {
    "collapsed": true
   },
   "outputs": [],
   "source": [
    "# define a function to get the soup\n",
    "def get_soup(url):\n",
    "    r = requests.get(url)\n",
    "    soup = BeautifulSoup(r.text, 'html.parser')\n",
    "    return soup\n",
    "\n",
    "# define a function to increment the url to the next page\n",
    "\n",
    "def next_page(base, player_count):\n",
    "    url = base+str(player_count)\n",
    "    return url\n",
    "\n",
    "# define a function that will return a list of the rows of player stats on a page\n",
    "def get_rows(soup):\n",
    "    body = soup.findAll('tbody')\n",
    "    rows = body[0].findAll('tr')\n",
    "    #stat_rows = [x for x in rows if x['td']==['']]\n",
    "    return rows\n",
    "\n",
    "# define a function that will strip the stats out of a row of player html data\n",
    "def strip_stats(rows):\n",
    "    for x in range(0,len(rows)):\n",
    "        player_stats = rows[x].findAll('td')\n",
    "        stats.append([z.text for z in player_stats])"
   ]
  },
  {
   "cell_type": "code",
   "execution_count": 5,
   "metadata": {
    "collapsed": true
   },
   "outputs": [],
   "source": [
    "# The master function will need to have a stats and counter that increments by 200\n",
    "# and prints out how many players it has processed per loop\n",
    "def get_defense_stats(base_url, limit):\n",
    "    player_count = 0\n",
    "    while player_count <= limit:\n",
    "        url = next_page(base_url, player_count)\n",
    "        soup = get_soup(url)\n",
    "        rows = get_rows(soup)\n",
    "        strip_stats(rows)\n",
    "        player_count +=200\n",
    "        print '%d players processed' % player_count\n",
    "        #sleep(.5)"
   ]
  },
  {
   "cell_type": "markdown",
   "metadata": {},
   "source": [
    "# Standard Box Score Stats"
   ]
  },
  {
   "cell_type": "code",
   "execution_count": 6,
   "metadata": {
    "collapsed": true
   },
   "outputs": [],
   "source": [
    "stats = []"
   ]
  },
  {
   "cell_type": "code",
   "execution_count": 7,
   "metadata": {
    "collapsed": false
   },
   "outputs": [
    {
     "name": "stdout",
     "output_type": "stream",
     "text": [
      "200 players processed\n",
      "400 players processed\n",
      "600 players processed\n",
      "800 players processed\n",
      "1000 players processed\n",
      "1200 players processed\n",
      "1400 players processed\n",
      "1600 players processed\n",
      "1800 players processed\n",
      "2000 players processed\n",
      "2200 players processed\n",
      "2400 players processed\n",
      "2600 players processed\n",
      "2800 players processed\n",
      "3000 players processed\n",
      "3200 players processed\n",
      "3400 players processed\n",
      "3600 players processed\n",
      "3800 players processed\n",
      "4000 players processed\n"
     ]
    }
   ],
   "source": [
    "base = ('http://www.hockey-reference.com/play-index/psl_finder.cgi?request=1&match=single&year_min=&year_max=&birthyear_min=&birthyear_max=&threshhold=5&season_end=-1&age_min=0&age_max=99&birth_country=&franch_id=&is_active=&is_hof=&is_playoffs=N&pos=D&handed=&c1stat=games_played&c1comp=gt&c1val=&c2stat=goals&c2comp=gt&c2val=&c3stat=shots&c3comp=gt&c3val=&c4stat=ops&c4comp=gt&c4val=&order_by=time_on_ice&order_by_asc=&offset=')\n",
    "\n",
    "get_defense_stats(base, 3800)"
   ]
  },
  {
   "cell_type": "code",
   "execution_count": 8,
   "metadata": {
    "collapsed": false
   },
   "outputs": [
    {
     "name": "stdout",
     "output_type": "stream",
     "text": [
      "3814\n"
     ]
    }
   ],
   "source": [
    "print len(stats)\n",
    "\n",
    "def_cols = ['player', 'team', 'lg', 'pos', 'season', 'age',\n",
    "                'games_played', 'goals', 'assists', 'points', 'plus_minus',\n",
    "               'pen_mins', 'even_goals', 'pp_goals', 'sh_goals','gw_goals',\n",
    "               'shots', 'shot_%', 'toi', 'g/game', 'a/game', 'pts/game',\n",
    "               'shots/game', 'off_point_shares', 'def_point_shares',\n",
    "               'tot_point_shares']"
   ]
  },
  {
   "cell_type": "code",
   "execution_count": 9,
   "metadata": {
    "collapsed": false
   },
   "outputs": [
    {
     "name": "stdout",
     "output_type": "stream",
     "text": [
      "(3814, 26)\n"
     ]
    },
    {
     "data": {
      "text/html": [
       "<div>\n",
       "<table border=\"1\" class=\"dataframe\">\n",
       "  <thead>\n",
       "    <tr style=\"text-align: right;\">\n",
       "      <th></th>\n",
       "      <th>player</th>\n",
       "      <th>team</th>\n",
       "      <th>lg</th>\n",
       "      <th>pos</th>\n",
       "      <th>season</th>\n",
       "      <th>age</th>\n",
       "      <th>games_played</th>\n",
       "      <th>goals</th>\n",
       "      <th>assists</th>\n",
       "      <th>points</th>\n",
       "      <th>...</th>\n",
       "      <th>shots</th>\n",
       "      <th>shot_%</th>\n",
       "      <th>toi</th>\n",
       "      <th>g/game</th>\n",
       "      <th>a/game</th>\n",
       "      <th>pts/game</th>\n",
       "      <th>shots/game</th>\n",
       "      <th>off_point_shares</th>\n",
       "      <th>def_point_shares</th>\n",
       "      <th>tot_point_shares</th>\n",
       "    </tr>\n",
       "  </thead>\n",
       "  <tbody>\n",
       "    <tr>\n",
       "      <th>3809</th>\n",
       "      <td>Teemu Laakso</td>\n",
       "      <td>NSH</td>\n",
       "      <td>NHL</td>\n",
       "      <td>D</td>\n",
       "      <td>2010-11</td>\n",
       "      <td>23</td>\n",
       "      <td>1</td>\n",
       "      <td>0</td>\n",
       "      <td>0</td>\n",
       "      <td>0</td>\n",
       "      <td>...</td>\n",
       "      <td>0</td>\n",
       "      <td></td>\n",
       "      <td>3</td>\n",
       "      <td>0.00</td>\n",
       "      <td>0.00</td>\n",
       "      <td>0.00</td>\n",
       "      <td>0.00</td>\n",
       "      <td>0.0</td>\n",
       "      <td>0.0</td>\n",
       "      <td>0.0</td>\n",
       "    </tr>\n",
       "    <tr>\n",
       "      <th>3810</th>\n",
       "      <td>Brian White</td>\n",
       "      <td>COL</td>\n",
       "      <td>NHL</td>\n",
       "      <td>D</td>\n",
       "      <td>1998-99</td>\n",
       "      <td>22</td>\n",
       "      <td>2</td>\n",
       "      <td>0</td>\n",
       "      <td>0</td>\n",
       "      <td>0</td>\n",
       "      <td>...</td>\n",
       "      <td>0</td>\n",
       "      <td></td>\n",
       "      <td>1</td>\n",
       "      <td>0.00</td>\n",
       "      <td>0.00</td>\n",
       "      <td>0.00</td>\n",
       "      <td>0.00</td>\n",
       "      <td>0.0</td>\n",
       "      <td>0.0</td>\n",
       "      <td>0.0</td>\n",
       "    </tr>\n",
       "    <tr>\n",
       "      <th>3811</th>\n",
       "      <td>James Wisniewski</td>\n",
       "      <td>CAR</td>\n",
       "      <td>NHL</td>\n",
       "      <td>D</td>\n",
       "      <td>2015-16</td>\n",
       "      <td>31</td>\n",
       "      <td>1</td>\n",
       "      <td>0</td>\n",
       "      <td>0</td>\n",
       "      <td>0</td>\n",
       "      <td>...</td>\n",
       "      <td>0</td>\n",
       "      <td></td>\n",
       "      <td>1</td>\n",
       "      <td>0.00</td>\n",
       "      <td>0.00</td>\n",
       "      <td>0.00</td>\n",
       "      <td>0.00</td>\n",
       "      <td>0.0</td>\n",
       "      <td>0.0</td>\n",
       "      <td>0.0</td>\n",
       "    </tr>\n",
       "    <tr>\n",
       "      <th>3812</th>\n",
       "      <td>Tim Ramholt</td>\n",
       "      <td>CGY</td>\n",
       "      <td>NHL</td>\n",
       "      <td>D</td>\n",
       "      <td>2007-08</td>\n",
       "      <td>23</td>\n",
       "      <td>1</td>\n",
       "      <td>0</td>\n",
       "      <td>0</td>\n",
       "      <td>0</td>\n",
       "      <td>...</td>\n",
       "      <td>0</td>\n",
       "      <td></td>\n",
       "      <td>1</td>\n",
       "      <td>0.00</td>\n",
       "      <td>0.00</td>\n",
       "      <td>0.00</td>\n",
       "      <td>0.00</td>\n",
       "      <td>0.0</td>\n",
       "      <td>-0.1</td>\n",
       "      <td>-0.1</td>\n",
       "    </tr>\n",
       "    <tr>\n",
       "      <th>3813</th>\n",
       "      <td>Eric Cairns</td>\n",
       "      <td>PIT</td>\n",
       "      <td>NHL</td>\n",
       "      <td>D</td>\n",
       "      <td>2006-07</td>\n",
       "      <td>32</td>\n",
       "      <td>1</td>\n",
       "      <td>0</td>\n",
       "      <td>0</td>\n",
       "      <td>0</td>\n",
       "      <td>...</td>\n",
       "      <td>0</td>\n",
       "      <td></td>\n",
       "      <td>1</td>\n",
       "      <td>0.00</td>\n",
       "      <td>0.00</td>\n",
       "      <td>0.00</td>\n",
       "      <td>0.00</td>\n",
       "      <td>0.0</td>\n",
       "      <td>0.0</td>\n",
       "      <td>0.0</td>\n",
       "    </tr>\n",
       "  </tbody>\n",
       "</table>\n",
       "<p>5 rows × 26 columns</p>\n",
       "</div>"
      ],
      "text/plain": [
       "                player team   lg pos   season age games_played goals assists  \\\n",
       "3809      Teemu Laakso  NSH  NHL   D  2010-11  23            1     0       0   \n",
       "3810       Brian White  COL  NHL   D  1998-99  22            2     0       0   \n",
       "3811  James Wisniewski  CAR  NHL   D  2015-16  31            1     0       0   \n",
       "3812       Tim Ramholt  CGY  NHL   D  2007-08  23            1     0       0   \n",
       "3813       Eric Cairns  PIT  NHL   D  2006-07  32            1     0       0   \n",
       "\n",
       "     points       ...        shots shot_% toi g/game a/game pts/game  \\\n",
       "3809      0       ...            0          3   0.00   0.00     0.00   \n",
       "3810      0       ...            0          1   0.00   0.00     0.00   \n",
       "3811      0       ...            0          1   0.00   0.00     0.00   \n",
       "3812      0       ...            0          1   0.00   0.00     0.00   \n",
       "3813      0       ...            0          1   0.00   0.00     0.00   \n",
       "\n",
       "     shots/game off_point_shares def_point_shares tot_point_shares  \n",
       "3809       0.00              0.0              0.0              0.0  \n",
       "3810       0.00              0.0              0.0              0.0  \n",
       "3811       0.00              0.0              0.0              0.0  \n",
       "3812       0.00              0.0             -0.1             -0.1  \n",
       "3813       0.00              0.0              0.0              0.0  \n",
       "\n",
       "[5 rows x 26 columns]"
      ]
     },
     "execution_count": 9,
     "metadata": {},
     "output_type": "execute_result"
    }
   ],
   "source": [
    "df = pd.DataFrame(stats, columns = def_cols)\n",
    "print df.shape\n",
    "df.tail()"
   ]
  },
  {
   "cell_type": "code",
   "execution_count": 10,
   "metadata": {
    "collapsed": false
   },
   "outputs": [
    {
     "name": "stdout",
     "output_type": "stream",
     "text": [
      "player               object\n",
      "team                 object\n",
      "lg                   object\n",
      "pos                  object\n",
      "season               object\n",
      "age                   int64\n",
      "games_played          int64\n",
      "goals                 int64\n",
      "assists               int64\n",
      "points                int64\n",
      "plus_minus            int64\n",
      "pen_mins              int64\n",
      "even_goals            int64\n",
      "pp_goals              int64\n",
      "sh_goals              int64\n",
      "gw_goals              int64\n",
      "shots                 int64\n",
      "shot_%              float64\n",
      "toi                   int64\n",
      "g/game              float64\n",
      "a/game              float64\n",
      "pts/game            float64\n",
      "shots/game          float64\n",
      "off_point_shares    float64\n",
      "def_point_shares    float64\n",
      "tot_point_shares    float64\n",
      "dtype: object\n"
     ]
    },
    {
     "name": "stderr",
     "output_type": "stream",
     "text": [
      "/Users/TerryONeill/anaconda/lib/python2.7/site-packages/ipykernel/__main__.py:9: FutureWarning: convert_objects is deprecated.  Use the data-type specific converters pd.to_datetime, pd.to_timedelta and pd.to_numeric.\n"
     ]
    }
   ],
   "source": [
    "numeric_cols = ['age',\n",
    "                'games_played', 'goals', 'assists', 'points', 'plus_minus',\n",
    "               'pen_mins', 'even_goals', 'pp_goals', 'sh_goals','gw_goals',\n",
    "               'shots', 'shot_%', 'toi', 'g/game', 'a/game', 'pts/game',\n",
    "               'shots/game', 'off_point_shares', 'def_point_shares',\n",
    "               'tot_point_shares']\n",
    "\n",
    "for col in numeric_cols:\n",
    "    df[col] = df[col].convert_objects(convert_numeric = True)\n",
    "    \n",
    "print df.dtypes"
   ]
  },
  {
   "cell_type": "code",
   "execution_count": 18,
   "metadata": {
    "collapsed": true
   },
   "outputs": [],
   "source": [
    "df.to_csv('/Users/TerryONeill/hockey_analytics/Hockey_advanced_analytics/def_stats.csv', encoding = 'utf-8')"
   ]
  },
  {
   "cell_type": "markdown",
   "metadata": {},
   "source": [
    "# Def Advanced Stats"
   ]
  },
  {
   "cell_type": "code",
   "execution_count": 11,
   "metadata": {
    "collapsed": true
   },
   "outputs": [],
   "source": [
    "# define a function to get the soup\n",
    "def get_soup(url):\n",
    "    r = requests.get(url)\n",
    "    soup = BeautifulSoup(r.text, 'html.parser')\n",
    "    return soup\n",
    "\n",
    "# define a function to increment the url to the next page\n",
    "\n",
    "def next_page(base, player_count):\n",
    "    url = base+str(player_count)\n",
    "    return url\n",
    "\n",
    "# define a function that will return a list of the rows of player stats on a page\n",
    "def get_rows(soup):\n",
    "    body = soup.findAll('tbody')\n",
    "    rows = body[0].findAll('tr')\n",
    "    #stat_rows = [x for x in rows if x['td']==['']]\n",
    "    return rows\n",
    "\n",
    "# define a function that will strip the stats out of a row of player html data\n",
    "def adv_strip_stats(rows):\n",
    "    for x in range(0,len(rows)):\n",
    "        player_stats = rows[x].findAll('td')\n",
    "        adv_stats.append([z.text for z in player_stats])"
   ]
  },
  {
   "cell_type": "code",
   "execution_count": 12,
   "metadata": {
    "collapsed": false
   },
   "outputs": [
    {
     "name": "stdout",
     "output_type": "stream",
     "text": [
      "100 players processed\n",
      "200 players processed\n",
      "300 players processed\n",
      "400 players processed\n",
      "500 players processed\n",
      "600 players processed\n",
      "700 players processed\n",
      "800 players processed\n",
      "900 players processed\n",
      "1000 players processed\n",
      "1100 players processed\n",
      "1200 players processed\n",
      "1300 players processed\n",
      "1400 players processed\n",
      "1500 players processed\n",
      "1600 players processed\n",
      "1700 players processed\n",
      "1800 players processed\n",
      "1900 players processed\n",
      "2000 players processed\n",
      "2100 players processed\n",
      "2200 players processed\n",
      "2300 players processed\n",
      "2400 players processed\n",
      "2500 players processed\n",
      "2600 players processed\n",
      "2700 players processed\n",
      "2800 players processed\n"
     ]
    }
   ],
   "source": [
    "adv_base = ('http://www.hockey-reference.com/play-index/ppbp_finder.cgi?c1comp=gt&c1stat=corsi_for&c1val=&c2comp=gt&c2stat=fenwick_for&c2val=&c3comp=gt&c3stat=on_ice_shot_pct&c3val=&c4comp=gt&c4stat=zs_offense_pct&c4val=&age_min=0&age_max=99&birth_country=&handed=&pos=D&rookie=N&season_start=1&season_end=-1&situation_id=all&franch_id=&year_min=&year_max=&match=single&order_by=hits&order_by_asc=&request=1&offset=')\n",
    "\n",
    "adv_stats = []\n",
    "def get_adv_forward_stats(base_url, limit):\n",
    "    player_count = 0\n",
    "    while player_count <= limit:\n",
    "        url = next_page(base_url, player_count)\n",
    "        soup = get_soup(url)\n",
    "        rows = get_rows(soup)\n",
    "        adv_strip_stats(rows)\n",
    "        player_count +=100\n",
    "        print '%d players processed' % player_count\n",
    "\n",
    "get_adv_forward_stats(adv_base, 2700)"
   ]
  },
  {
   "cell_type": "code",
   "execution_count": 14,
   "metadata": {
    "collapsed": false
   },
   "outputs": [
    {
     "data": {
      "text/html": [
       "<div>\n",
       "<table border=\"1\" class=\"dataframe\">\n",
       "  <thead>\n",
       "    <tr style=\"text-align: right;\">\n",
       "      <th></th>\n",
       "      <th>player</th>\n",
       "      <th>pos</th>\n",
       "      <th>team</th>\n",
       "      <th>season</th>\n",
       "      <th>games_played</th>\n",
       "      <th>corsi_for</th>\n",
       "      <th>corsi_ag</th>\n",
       "      <th>corsi_for%</th>\n",
       "      <th>corsi_for%_rel</th>\n",
       "      <th>corsi/60</th>\n",
       "      <th>...</th>\n",
       "      <th>off_zs%</th>\n",
       "      <th>def_zs%</th>\n",
       "      <th>toi/game</th>\n",
       "      <th>faceoffs_won</th>\n",
       "      <th>faceoffs_lost</th>\n",
       "      <th>faceoff%</th>\n",
       "      <th>hits</th>\n",
       "      <th>blocks</th>\n",
       "      <th>takeaways</th>\n",
       "      <th>giveaways</th>\n",
       "    </tr>\n",
       "  </thead>\n",
       "  <tbody>\n",
       "    <tr>\n",
       "      <th>2807</th>\n",
       "      <td>Jakub Kindl</td>\n",
       "      <td>D</td>\n",
       "      <td>DET</td>\n",
       "      <td>2009-10</td>\n",
       "      <td>3</td>\n",
       "      <td>17</td>\n",
       "      <td>29</td>\n",
       "      <td>37.0</td>\n",
       "      <td>-17.4</td>\n",
       "      <td>-22.2</td>\n",
       "      <td>...</td>\n",
       "      <td>41.2</td>\n",
       "      <td>58.8</td>\n",
       "      <td>10.8</td>\n",
       "      <td>0</td>\n",
       "      <td>0</td>\n",
       "      <td></td>\n",
       "      <td>0</td>\n",
       "      <td>0</td>\n",
       "      <td>1</td>\n",
       "      <td>1</td>\n",
       "    </tr>\n",
       "    <tr>\n",
       "      <th>2808</th>\n",
       "      <td>Tyler Wotherspoon</td>\n",
       "      <td>D</td>\n",
       "      <td>CGY</td>\n",
       "      <td>2014-15</td>\n",
       "      <td>1</td>\n",
       "      <td>11</td>\n",
       "      <td>17</td>\n",
       "      <td>39.3</td>\n",
       "      <td></td>\n",
       "      <td>-17.7</td>\n",
       "      <td>...</td>\n",
       "      <td>14.3</td>\n",
       "      <td>85.7</td>\n",
       "      <td>20.3</td>\n",
       "      <td>0</td>\n",
       "      <td>0</td>\n",
       "      <td></td>\n",
       "      <td>0</td>\n",
       "      <td>4</td>\n",
       "      <td>0</td>\n",
       "      <td>0</td>\n",
       "    </tr>\n",
       "    <tr>\n",
       "      <th>2809</th>\n",
       "      <td>Cameron Schilling</td>\n",
       "      <td>D</td>\n",
       "      <td>WSH</td>\n",
       "      <td>2012-13</td>\n",
       "      <td>1</td>\n",
       "      <td>9</td>\n",
       "      <td>13</td>\n",
       "      <td>40.9</td>\n",
       "      <td>-3.8</td>\n",
       "      <td>-20.1</td>\n",
       "      <td>...</td>\n",
       "      <td>58.3</td>\n",
       "      <td>41.7</td>\n",
       "      <td>12.0</td>\n",
       "      <td>0</td>\n",
       "      <td>0</td>\n",
       "      <td></td>\n",
       "      <td>0</td>\n",
       "      <td>1</td>\n",
       "      <td>0</td>\n",
       "      <td>0</td>\n",
       "    </tr>\n",
       "    <tr>\n",
       "      <th>2810</th>\n",
       "      <td>Shayne Gostisbehere</td>\n",
       "      <td>D</td>\n",
       "      <td>PHI</td>\n",
       "      <td>2014-15</td>\n",
       "      <td>2</td>\n",
       "      <td>18</td>\n",
       "      <td>29</td>\n",
       "      <td>38.3</td>\n",
       "      <td>-4.0</td>\n",
       "      <td>-26.3</td>\n",
       "      <td>...</td>\n",
       "      <td>63.6</td>\n",
       "      <td>36.4</td>\n",
       "      <td>12.6</td>\n",
       "      <td>0</td>\n",
       "      <td>0</td>\n",
       "      <td></td>\n",
       "      <td>0</td>\n",
       "      <td>1</td>\n",
       "      <td>1</td>\n",
       "      <td>3</td>\n",
       "    </tr>\n",
       "    <tr>\n",
       "      <th>2811</th>\n",
       "      <td>Alexey Marchenko</td>\n",
       "      <td>D</td>\n",
       "      <td>DET</td>\n",
       "      <td>2013-14</td>\n",
       "      <td>1</td>\n",
       "      <td>12</td>\n",
       "      <td>14</td>\n",
       "      <td>46.2</td>\n",
       "      <td></td>\n",
       "      <td>-9.0</td>\n",
       "      <td>...</td>\n",
       "      <td>50.0</td>\n",
       "      <td>50.0</td>\n",
       "      <td>13.4</td>\n",
       "      <td>0</td>\n",
       "      <td>0</td>\n",
       "      <td></td>\n",
       "      <td>0</td>\n",
       "      <td>0</td>\n",
       "      <td>0</td>\n",
       "      <td>0</td>\n",
       "    </tr>\n",
       "  </tbody>\n",
       "</table>\n",
       "<p>5 rows × 28 columns</p>\n",
       "</div>"
      ],
      "text/plain": [
       "                   player pos team   season games_played corsi_for corsi_ag  \\\n",
       "2807          Jakub Kindl   D  DET  2009-10            3        17       29   \n",
       "2808    Tyler Wotherspoon   D  CGY  2014-15            1        11       17   \n",
       "2809    Cameron Schilling   D  WSH  2012-13            1         9       13   \n",
       "2810  Shayne Gostisbehere   D  PHI  2014-15            2        18       29   \n",
       "2811     Alexey Marchenko   D  DET  2013-14            1        12       14   \n",
       "\n",
       "     corsi_for% corsi_for%_rel corsi/60    ...    off_zs% def_zs% toi/game  \\\n",
       "2807       37.0          -17.4    -22.2    ...       41.2    58.8     10.8   \n",
       "2808       39.3                   -17.7    ...       14.3    85.7     20.3   \n",
       "2809       40.9           -3.8    -20.1    ...       58.3    41.7     12.0   \n",
       "2810       38.3           -4.0    -26.3    ...       63.6    36.4     12.6   \n",
       "2811       46.2                    -9.0    ...       50.0    50.0     13.4   \n",
       "\n",
       "     faceoffs_won faceoffs_lost faceoff% hits blocks takeaways giveaways  \n",
       "2807            0             0             0      0         1         1  \n",
       "2808            0             0             0      4         0         0  \n",
       "2809            0             0             0      1         0         0  \n",
       "2810            0             0             0      1         1         3  \n",
       "2811            0             0             0      0         0         0  \n",
       "\n",
       "[5 rows x 28 columns]"
      ]
     },
     "execution_count": 14,
     "metadata": {},
     "output_type": "execute_result"
    }
   ],
   "source": [
    "adv_def_cols = ['player', 'pos', 'team', 'season', 'games_played', 'corsi_for',\n",
    "                'corsi_ag', 'corsi_for%', 'corsi_for%_rel', 'corsi/60',\n",
    "                'corsi_rel/60', 'fen_for', 'fen_ag', 'fen_for%', 'fen_for%_rel',\n",
    "                'team_onice_sh%', 'team_onice_sv%', 'pdo', 'off_zs%', 'def_zs%',\n",
    "                'toi/game', 'faceoffs_won', 'faceoffs_lost', 'faceoff%',\n",
    "                'hits', 'blocks', 'takeaways', 'giveaways']\n",
    "\n",
    "adv_df = pd.DataFrame(adv_stats, columns = adv_def_cols)\n",
    "adv_df.tail()"
   ]
  },
  {
   "cell_type": "code",
   "execution_count": 15,
   "metadata": {
    "collapsed": false
   },
   "outputs": [
    {
     "name": "stderr",
     "output_type": "stream",
     "text": [
      "/Users/TerryONeill/anaconda/lib/python2.7/site-packages/ipykernel/__main__.py:9: FutureWarning: convert_objects is deprecated.  Use the data-type specific converters pd.to_datetime, pd.to_timedelta and pd.to_numeric.\n"
     ]
    },
    {
     "data": {
      "text/plain": [
       "player             object\n",
       "pos                object\n",
       "team               object\n",
       "season             object\n",
       "games_played      float64\n",
       "corsi_for         float64\n",
       "corsi_ag          float64\n",
       "corsi_for%        float64\n",
       "corsi_for%_rel    float64\n",
       "corsi/60          float64\n",
       "corsi_rel/60      float64\n",
       "fen_for           float64\n",
       "fen_ag            float64\n",
       "fen_for%          float64\n",
       "fen_for%_rel      float64\n",
       "team_onice_sh%    float64\n",
       "team_onice_sv%    float64\n",
       "pdo               float64\n",
       "off_zs%           float64\n",
       "def_zs%           float64\n",
       "toi/game          float64\n",
       "faceoffs_won      float64\n",
       "faceoffs_lost     float64\n",
       "faceoff%          float64\n",
       "hits              float64\n",
       "blocks            float64\n",
       "takeaways         float64\n",
       "giveaways         float64\n",
       "dtype: object"
      ]
     },
     "execution_count": 15,
     "metadata": {},
     "output_type": "execute_result"
    }
   ],
   "source": [
    "adv_numeric_cols = ['games_played', 'corsi_for',\n",
    "                'corsi_ag', 'corsi_for%', 'corsi_for%_rel', 'corsi/60',\n",
    "                'corsi_rel/60', 'fen_for', 'fen_ag', 'fen_for%', 'fen_for%_rel',\n",
    "                'team_onice_sh%', 'team_onice_sv%', 'pdo', 'off_zs%', 'def_zs%',\n",
    "                'toi/game', 'faceoffs_won', 'faceoffs_lost', 'faceoff%',\n",
    "                'hits', 'blocks', 'takeaways', 'giveaways']\n",
    "\n",
    "for i in adv_numeric_cols:\n",
    "    adv_df[i] = adv_df[i].convert_objects(convert_numeric = True)\n",
    "    \n",
    "adv_df.dtypes"
   ]
  },
  {
   "cell_type": "code",
   "execution_count": 19,
   "metadata": {
    "collapsed": true
   },
   "outputs": [],
   "source": [
    "adv_df.to_csv('/Users/TerryONeill/hockey_analytics/Hockey_advanced_analytics/adv_def_stats.csv', encoding = 'utf-8')"
   ]
  },
  {
   "cell_type": "code",
   "execution_count": null,
   "metadata": {
    "collapsed": true
   },
   "outputs": [],
   "source": []
  }
 ],
 "metadata": {
  "kernelspec": {
   "display_name": "Python 2",
   "language": "python",
   "name": "python2"
  },
  "language_info": {
   "codemirror_mode": {
    "name": "ipython",
    "version": 2
   },
   "file_extension": ".py",
   "mimetype": "text/x-python",
   "name": "python",
   "nbconvert_exporter": "python",
   "pygments_lexer": "ipython2",
   "version": "2.7.11"
  }
 },
 "nbformat": 4,
 "nbformat_minor": 0
}
